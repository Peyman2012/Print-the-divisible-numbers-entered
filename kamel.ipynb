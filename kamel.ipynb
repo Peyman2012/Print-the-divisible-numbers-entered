{
 "cells": [
  {
   "cell_type": "code",
   "execution_count": 1,
   "metadata": {},
   "outputs": [
    {
     "name": "stdout",
     "output_type": "stream",
     "text": [
      "Enter a number: 6\n",
      "1\n",
      "1\n",
      "2\n",
      "3\n",
      "3\n",
      "6\n",
      "\t Prefected\n",
      "Continue n\n"
     ]
    }
   ],
   "source": [
    "while True:\n",
    "    num=int(input(\"Enter a number: \"))\n",
    "    sum=0\n",
    "    for i in range(1,num):\n",
    "        if (num%i==0):\n",
    "            sum+=i\n",
    "            print(sum)\n",
    "    if (sum==num):\n",
    "        print('\\t',\"Prefected\")\n",
    "    else:\n",
    "        print('\\t',\"Not prefect\")\n",
    "    yes=input(\"Continue \")\n",
    "    if(yes[0]=='N' or yes[0]=='n'):\n",
    "        break\n",
    "    \n",
    "        \n",
    "    "
   ]
  },
  {
   "cell_type": "code",
   "execution_count": null,
   "metadata": {},
   "outputs": [],
   "source": []
  },
  {
   "cell_type": "code",
   "execution_count": null,
   "metadata": {},
   "outputs": [],
   "source": []
  }
 ],
 "metadata": {
  "kernelspec": {
   "display_name": "Python 3",
   "language": "python",
   "name": "python3"
  },
  "language_info": {
   "codemirror_mode": {
    "name": "ipython",
    "version": 3
   },
   "file_extension": ".py",
   "mimetype": "text/x-python",
   "name": "python",
   "nbconvert_exporter": "python",
   "pygments_lexer": "ipython3",
   "version": "3.6.13"
  }
 },
 "nbformat": 4,
 "nbformat_minor": 2
}
